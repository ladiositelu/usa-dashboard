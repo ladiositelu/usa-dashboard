{
 "cells": [
  {
   "cell_type": "markdown",
   "metadata": {},
   "source": [
    "# Merge Crime data\n"
   ]
  },
  {
   "cell_type": "code",
   "execution_count": null,
   "metadata": {
    "collapsed": false
   },
   "outputs": [],
   "source": [
    "import pandas as pd \n",
    "import numpy as np\n",
    "import urllib2"
   ]
  },
  {
   "cell_type": "markdown",
   "metadata": {},
   "source": [
    "### Function to pull relevant data"
   ]
  },
  {
   "cell_type": "code",
   "execution_count": null,
   "metadata": {
    "collapsed": false
   },
   "outputs": [],
   "source": [
    "def get_data(city,start,end):\n",
    "    '''Function to get data from the github repo. city refers to the city of interest, start and\n",
    "    end are the years of data you want. For instance start=2006 and end=2009 means data from 2006 to 2009'''\n",
    "    dd=[]\n",
    "    for x in np.arange(start,end+1):\n",
    "        url='https://raw.githubusercontent.com/Data4Democracy/usa-dashboard/master/'+str(city)+'/data/'+str(city)+'-'+str(x)+'-crime.csv'\n",
    "        try:\n",
    "            dd.append(pd.read_csv(url))\n",
    "        except urllib2.HTTPError, err: # We can get this error if the city or year data is absent\n",
    "            if err.code==404:\n",
    "                url='https://raw.githubusercontent.com/Data4Democracy/usa-dashboard/master/'+str(city)+'/'+str(city)+'-'+str(x)+'-crime.csv'\n",
    "                try:\n",
    "                    dd.append(pd.read_csv(url))\n",
    "                except urllib2.HTTPError, err:\n",
    "                    if err.code==404:\n",
    "                        url='https://raw.githubusercontent.com/devinaconley/usa-dashboard/master/'+str(city)+'/'+str(x)+'.csv'\n",
    "                        try:\n",
    "                            dd.append(pd.read_csv(url))\n",
    "                        except urllib2.HTTPError, err:\n",
    "                            if err.code==404:\n",
    "                                print \"data for \" + str(city) + str(x)+ \" doesn't exist\"\n",
    "    data=pd.concat(dd)\n",
    "    data['city']=city\n",
    "    data['date']=pd.to_datetime(data['year'].astype(str)+'/'+data['month'].astype(str)+'/'+data['day'].astype(str))\n",
    "    return data\n",
    "    "
   ]
  },
  {
   "cell_type": "markdown",
   "metadata": {},
   "source": [
    "## Baltimore"
   ]
  },
  {
   "cell_type": "code",
   "execution_count": null,
   "metadata": {
    "collapsed": false
   },
   "outputs": [],
   "source": [
    "bal=get_data('bal', 2003,2016) # baltimore"
   ]
  },
  {
   "cell_type": "code",
   "execution_count": null,
   "metadata": {
    "collapsed": true
   },
   "outputs": [],
   "source": [
    "bal.rename(columns={'description':'crime_type'},inplace=True) #"
   ]
  },
  {
   "cell_type": "markdown",
   "metadata": {},
   "source": [
    "## Chicago"
   ]
  },
  {
   "cell_type": "code",
   "execution_count": null,
   "metadata": {
    "collapsed": false
   },
   "outputs": [],
   "source": [
    "chi=get_data('chi',2003,2016) # Chicago"
   ]
  },
  {
   "cell_type": "code",
   "execution_count": null,
   "metadata": {
    "collapsed": true
   },
   "outputs": [],
   "source": [
    "chi.rename(columns={'primary_type':'crime_type'},inplace=True)"
   ]
  },
  {
   "cell_type": "markdown",
   "metadata": {},
   "source": [
    "## DC"
   ]
  },
  {
   "cell_type": "code",
   "execution_count": null,
   "metadata": {
    "collapsed": true
   },
   "outputs": [],
   "source": [
    "dc=pd.read_csv('https://raw.githubusercontent.com/devinaconley/usa-dashboard/master/dc/dc-2008-2016-crime.csv')"
   ]
  },
  {
   "cell_type": "code",
   "execution_count": null,
   "metadata": {
    "collapsed": true
   },
   "outputs": [],
   "source": [
    "dc['city']='dc'"
   ]
  },
  {
   "cell_type": "code",
   "execution_count": null,
   "metadata": {
    "collapsed": true
   },
   "outputs": [],
   "source": [
    "dc['date']=pd.to_datetime(dc['year'].astype(str)+'/'+dc['month'].astype(str)+'/'+dc['day'].astype(str))"
   ]
  },
  {
   "cell_type": "code",
   "execution_count": null,
   "metadata": {
    "collapsed": true
   },
   "outputs": [],
   "source": [
    "dc.rename(columns={'OFFENSE':'crime_type'},inplace=True)"
   ]
  },
  {
   "cell_type": "markdown",
   "metadata": {},
   "source": [
    "## LA"
   ]
  },
  {
   "cell_type": "code",
   "execution_count": null,
   "metadata": {
    "collapsed": true
   },
   "outputs": [],
   "source": [
    "la=pd.read_csv('https://raw.githubusercontent.com/devinaconley/usa-dashboard/master/la/data/la_crime_data_2005-2015.csv')"
   ]
  },
  {
   "cell_type": "code",
   "execution_count": null,
   "metadata": {
    "collapsed": true
   },
   "outputs": [],
   "source": [
    "la['city']='la'\n",
    "la['date']=pd.to_datetime(la['year'].astype(str)+'/'+la['month'].astype(str)+'/'+la['day'].astype(str))\n",
    "la.rename(columns={'category':'crime_type'},inplace=True)"
   ]
  },
  {
   "cell_type": "markdown",
   "metadata": {},
   "source": [
    "## Louisville"
   ]
  },
  {
   "cell_type": "code",
   "execution_count": null,
   "metadata": {
    "collapsed": true
   },
   "outputs": [],
   "source": [
    "lou=pd.read_csv('https://raw.githubusercontent.com/devinaconley/usa-dashboard/master/louisville/data/louisville_crime_data_2003-2017.csv')"
   ]
  },
  {
   "cell_type": "code",
   "execution_count": null,
   "metadata": {
    "collapsed": true
   },
   "outputs": [],
   "source": [
    "lou['city']='lou'\n",
    "lou['date']=pd.to_datetime(lou['year'].astype(str)+'/'+lou['month'].astype(str)+'/'+lou['day'].astype(str))\n"
   ]
  },
  {
   "cell_type": "markdown",
   "metadata": {},
   "source": [
    "## NYC"
   ]
  },
  {
   "cell_type": "code",
   "execution_count": null,
   "metadata": {
    "collapsed": false
   },
   "outputs": [],
   "source": [
    "nyc=get_data('nyc',2003,2016) # NYC"
   ]
  },
  {
   "cell_type": "code",
   "execution_count": null,
   "metadata": {
    "collapsed": true
   },
   "outputs": [],
   "source": [
    "nyc.rename(columns={'ofns_desc':'crime_type'},inplace=True) "
   ]
  },
  {
   "cell_type": "markdown",
   "metadata": {},
   "source": [
    "## SEA"
   ]
  },
  {
   "cell_type": "code",
   "execution_count": null,
   "metadata": {
    "collapsed": false
   },
   "outputs": [],
   "source": [
    "sea=get_data('sea',2005,2015) # Seattle "
   ]
  },
  {
   "cell_type": "markdown",
   "metadata": {},
   "source": [
    "## SF"
   ]
  },
  {
   "cell_type": "code",
   "execution_count": null,
   "metadata": {
    "collapsed": false
   },
   "outputs": [],
   "source": [
    "sf=get_data('sf',2003,2016)"
   ]
  },
  {
   "cell_type": "code",
   "execution_count": null,
   "metadata": {
    "collapsed": false
   },
   "outputs": [],
   "source": [
    "sf.rename(columns={'category':'crime_type'},inplace=True)"
   ]
  },
  {
   "cell_type": "markdown",
   "metadata": {},
   "source": [
    "## Combine Data"
   ]
  },
  {
   "cell_type": "code",
   "execution_count": null,
   "metadata": {
    "collapsed": false
   },
   "outputs": [],
   "source": [
    "df=pd.concat([bal,chi,dc,nyc,sea,sf,la,lou],ignore_index=True) #Combine the data"
   ]
  },
  {
   "cell_type": "code",
   "execution_count": null,
   "metadata": {
    "collapsed": false
   },
   "outputs": [],
   "source": [
    "df['crime_type']=df.crime_type.str.lower() #make all entries lower case. This makes manipulation easy"
   ]
  },
  {
   "cell_type": "code",
   "execution_count": null,
   "metadata": {
    "collapsed": true
   },
   "outputs": [],
   "source": [
    "def normalize_name(name):\n",
    "    \"\"\"\n",
    "    Standardizes names to make for easier comparisons\n",
    "    \n",
    "    name: full name of a crime type can be in any format \n",
    "    \"\"\"\n",
    "    if \" and\" in name:\n",
    "        name = name.replace(' and ',' & ')\n",
    "    if \" codes\" in name:\n",
    "        name= name.replace(' codes',' code')\n",
    "    return name"
   ]
  },
  {
   "cell_type": "code",
   "execution_count": null,
   "metadata": {
    "collapsed": false
   },
   "outputs": [],
   "source": [
    "df['crime_type']=df['crime_type'].apply(normalize_name) # normalize the names of the crime types"
   ]
  },
  {
   "cell_type": "code",
   "execution_count": null,
   "metadata": {
    "collapsed": true
   },
   "outputs": [],
   "source": [
    "## Create standard categories based on FBI Uniform Crime Reporting\n",
    "\n",
    "ucr=[]\n",
    "for row in df['crime_type']:\n",
    "    if 'rape' in row or 'crim sexual assault' in row:\n",
    "        ucr.append('rape')\n",
    "    elif 'robbery' in row:\n",
    "        ucr.append('robbery')\n",
    "    elif 'agg. assault' in row or 'aggravated assault' in row:\n",
    "        ucr.append('aggravated assault')\n",
    "    elif 'auto theft' in row or 'motor vehicle theft' in row or 'robbery - carjacking' in row:\n",
    "        ucr.append('motor vehicle theft')\n",
    "    elif 'arson' in row:\n",
    "        ucr.append('arson')\n",
    "    elif 'larceny' in row:\n",
    "        ucr.append('larceny')\n",
    "    elif 'burglar' in row:\n",
    "        ucr.append('burglary')\n",
    "    elif 'murder' in row or 'homicide' in row:\n",
    "        ucr.append('murder & non-negl. manslaughter')\n",
    "    else:\n",
    "        ucr.append(None) # Crime reports that don't have an equivalent UCR category            "
   ]
  },
  {
   "cell_type": "code",
   "execution_count": null,
   "metadata": {
    "collapsed": true
   },
   "outputs": [],
   "source": [
    "df['ucr']=ucr"
   ]
  }
 ],
 "metadata": {
  "kernelspec": {
   "display_name": "Python 2",
   "language": "python",
   "name": "python2"
  },
  "language_info": {
   "codemirror_mode": {
    "name": "ipython",
    "version": 2
   },
   "file_extension": ".py",
   "mimetype": "text/x-python",
   "name": "python",
   "nbconvert_exporter": "python",
   "pygments_lexer": "ipython2",
   "version": "2.7.12"
  }
 },
 "nbformat": 4,
 "nbformat_minor": 0
}
